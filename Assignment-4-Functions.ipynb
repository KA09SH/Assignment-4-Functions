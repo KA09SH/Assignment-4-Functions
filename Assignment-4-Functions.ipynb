{
 "cells": [
  {
   "cell_type": "code",
   "execution_count": 1,
   "id": "05bb6e39",
   "metadata": {},
   "outputs": [
    {
     "name": "stdout",
     "output_type": "stream",
     "text": [
      "[('Virat Kohli', 24936), ('Jack Kallis', 25534), ('Ricky Ponting', 27483), ('Sachin Tendulkar', 34357)]\n"
     ]
    }
   ],
   "source": [
    "#Q1. Create a python program to sort the given list of tuples based on integer value using a lambda function.\n",
    "#    [('Sachin Tendulkar', 34357), ('Ricky Ponting', 27483), ('Jack Kallis', 25534), ('Virat Kohli', 24936)]\n",
    "\n",
    "#A. Program to sort the list of tuples\n",
    "\n",
    "sort_tuples = [('Sachin Tendulkar', 34357), ('Ricky Ponting', 27483), ('Jack Kallis', 25534), ('Virat Kohli', 24936)]\n",
    "sort_tuples.sort(key=lambda x: x[1])\n",
    "print(sort_tuples)\n"
   ]
  },
  {
   "cell_type": "code",
   "execution_count": 9,
   "id": "1c42f969",
   "metadata": {},
   "outputs": [
    {
     "name": "stdout",
     "output_type": "stream",
     "text": [
      "[1, 4, 9, 16, 25, 36, 49, 64, 81, 100]\n"
     ]
    }
   ],
   "source": [
    "#Q2. Write a Python Program to find the squares of all the numbers in the given list of integers using lambda and map functions.\n",
    "#    [1,2,3,4,5,6,7,8,9,10]\n",
    "\n",
    "#A. Program to find the squares of all the numbers in the given list of integers using lambda and map functions.\n",
    "\n",
    "li = [1,2,3,4,5,6,7,8,9,10]\n",
    " \n",
    "final_list = list(map(lambda x: x**2, li))\n",
    "print(final_list)\n"
   ]
  },
  {
   "cell_type": "code",
   "execution_count": 13,
   "id": "464ddddd",
   "metadata": {},
   "outputs": [
    {
     "name": "stdout",
     "output_type": "stream",
     "text": [
      "('1', '2', '3', '4', '5', '6', '7', '8', '9', '10')\n"
     ]
    }
   ],
   "source": [
    "#Q3. Write a python program to convert the given list of integers into a tuple of strings. Use map and lambda functions\n",
    "#.   Given String: [1, 2, 3, 4, 5, 6, 7, 8, 9, 10]\n",
    "#.   Expected output: ('1', '2', '3', '4', '5', '6', '7', '8', '9', '10')\n",
    "    \n",
    "#A.  Program to convert the given list of integers into a tuple of strings.\n",
    "\n",
    "List1 = [1, 2, 3, 4, 5, 6, 7, 8, 9, 10]\n",
    "\n",
    "tuple1 = tuple(map(lambda x: str(x), List1))\n",
    "print(tuple1)   \n"
   ]
  },
  {
   "cell_type": "code",
   "execution_count": 18,
   "id": "e3a8db77",
   "metadata": {},
   "outputs": [
    {
     "name": "stdout",
     "output_type": "stream",
     "text": [
      "15511210043330985984000000\n"
     ]
    }
   ],
   "source": [
    "#Q4. Write a python program using reduce function to compute the product of a list containing numbers from 1 to 25.\n",
    "\n",
    "#A. Program using reduce function to compute the product of a list containing numbers from 1 to 25\n",
    "\n",
    "from functools import reduce\n",
    "from operator import mul\n",
    "\n",
    "List2 = range(1,26)\n",
    "\n",
    "result = reduce(mul, List2)\n",
    "print(result)\n"
   ]
  },
  {
   "cell_type": "code",
   "execution_count": 26,
   "id": "d9cdcde4",
   "metadata": {},
   "outputs": [
    {
     "name": "stdout",
     "output_type": "stream",
     "text": [
      "Divisible by 2: [2, 6, 60, 90, 120, 46]\n",
      "Divisible by 3: [3, 6, 9, 27, 60, 90, 120]\n"
     ]
    }
   ],
   "source": [
    "#Q5. Write a python program to filter the numbers in a given list that are divisible by 2 and 3 using the filter function.\n",
    "#    [2, 3, 6, 9, 27, 60, 90, 120, 55, 46]\n",
    "\n",
    "my_list = [2, 3, 6, 9, 27, 60, 90, 120, 55, 46]\n",
    "  \n",
    "DivBy2 = list(filter(lambda x: (x % 2 == 0), my_list))\n",
    "DivBy3 = list(filter(lambda x: (x % 3 == 0), my_list)) \n",
    "  \n",
    "print('Divisible by 2:', DivBy2) \n",
    "print('Divisible by 3:', DivBy3) \n"
   ]
  },
  {
   "cell_type": "code",
   "execution_count": 29,
   "id": "b749ca18",
   "metadata": {},
   "outputs": [
    {
     "name": "stdout",
     "output_type": "stream",
     "text": [
      "List of palindromes: ['php', 'aba', 'radar', 'level']\n"
     ]
    }
   ],
   "source": [
    "#Q6. Write a python program to find palindromes in the given list of strings using lambda and filter function.\n",
    "#.   ['python', 'php', 'aba', 'radar', 'level']\n",
    "\n",
    "ListTxt = ['python', 'php', 'aba', 'radar', 'level']\n",
    "\n",
    "List_of_Palindromes = list(filter(lambda x: (x == \"\".join(reversed(x))), ListTxt)) \n",
    "print(\"List of palindromes:\", List_of_Palindromes)\n"
   ]
  },
  {
   "cell_type": "code",
   "execution_count": null,
   "id": "8e6de256",
   "metadata": {},
   "outputs": [],
   "source": []
  }
 ],
 "metadata": {
  "kernelspec": {
   "display_name": "Python 3 (ipykernel)",
   "language": "python",
   "name": "python3"
  },
  "language_info": {
   "codemirror_mode": {
    "name": "ipython",
    "version": 3
   },
   "file_extension": ".py",
   "mimetype": "text/x-python",
   "name": "python",
   "nbconvert_exporter": "python",
   "pygments_lexer": "ipython3",
   "version": "3.10.9"
  }
 },
 "nbformat": 4,
 "nbformat_minor": 5
}
